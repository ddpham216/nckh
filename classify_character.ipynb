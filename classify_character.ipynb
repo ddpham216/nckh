{
 "cells": [
  {
   "cell_type": "code",
   "execution_count": 1,
   "metadata": {},
   "outputs": [],
   "source": [
    "import numpy as np\n",
    "import pandas as pd\n",
    "import tensorflow.keras as keras\n",
    "import tensorflow as tf\n",
    "import matplotlib.pyplot as plt\n",
    "from keras.utils import to_categorical\n",
    "from PIL import Image\n",
    "import csv\n",
    "import string"
   ]
  },
  {
   "cell_type": "code",
   "execution_count": 2,
   "metadata": {},
   "outputs": [],
   "source": [
    "train_df = pd.read_csv('train.csv', header=None)\n",
    "test_df = pd.read_csv('test.csv', header=None)\n",
    "train_y = np.array(train_df.iloc[:, 0])\n",
    "train_x = np.array(train_df.iloc[:, 1:])\n",
    "test_y = np.array(test_df.iloc[:, 0])\n",
    "test_x = np.array(test_df.iloc[:, 1:])"
   ]
  },
  {
   "cell_type": "code",
   "execution_count": 3,
   "metadata": {},
   "outputs": [],
   "source": [
    "SIZE = 28\n",
    "N_CLASSES = 62"
   ]
  },
  {
   "cell_type": "code",
   "execution_count": 4,
   "metadata": {},
   "outputs": [],
   "source": [
    "train_x = train_x.reshape(train_x.shape[0],SIZE, SIZE)\n",
    "test_x = test_x.reshape(test_x.shape[0],SIZE, SIZE)"
   ]
  },
  {
   "cell_type": "code",
   "execution_count": 5,
   "metadata": {},
   "outputs": [],
   "source": [
    "# train_x = tf.keras.utils.normalize(train_x, axis=1)\n",
    "# test_x = tf.keras.utils.normalize(test_x, axis=1)\n",
    "train_x = train_x / 255\n",
    "test_x = test_x / 255"
   ]
  },
  {
   "cell_type": "code",
   "execution_count": 126,
   "metadata": {},
   "outputs": [
    {
     "name": "stdout",
     "output_type": "stream",
     "text": [
      "Epoch 1/10\n",
      "186/186 [==============================] - 0s 2ms/step - loss: 2.6454 - accuracy: 0.3992\n",
      "Epoch 2/10\n",
      "186/186 [==============================] - 0s 2ms/step - loss: 0.6099 - accuracy: 0.8651\n",
      "Epoch 3/10\n",
      "186/186 [==============================] - 0s 2ms/step - loss: 0.2418 - accuracy: 0.9523\n",
      "Epoch 4/10\n",
      "186/186 [==============================] - 0s 2ms/step - loss: 0.1220 - accuracy: 0.9755\n",
      "Epoch 5/10\n",
      "186/186 [==============================] - 0s 2ms/step - loss: 0.0846 - accuracy: 0.9812\n",
      "Epoch 6/10\n",
      "186/186 [==============================] - 0s 2ms/step - loss: 0.0568 - accuracy: 0.9840\n",
      "Epoch 7/10\n",
      "186/186 [==============================] - 0s 2ms/step - loss: 0.0464 - accuracy: 0.9862: 0s - loss: 0.0408 - accu\n",
      "Epoch 8/10\n",
      "186/186 [==============================] - 0s 2ms/step - loss: 0.0364 - accuracy: 0.9879\n",
      "Epoch 9/10\n",
      "186/186 [==============================] - 0s 2ms/step - loss: 0.0325 - accuracy: 0.9892\n",
      "Epoch 10/10\n",
      "186/186 [==============================] - 0s 2ms/step - loss: 0.0300 - accuracy: 0.9891\n",
      "31/31 [==============================] - 0s 1ms/step - loss: 0.0298 - accuracy: 0.9889\n",
      "0.029826320707798004\n",
      "0.9889112710952759\n"
     ]
    }
   ],
   "source": [
    "model = tf.keras.models.Sequential()\n",
    "model.add(tf.keras.layers.Flatten())\n",
    "model.add(tf.keras.layers.Dense(128, activation=tf.nn.relu))\n",
    "model.add(tf.keras.layers.Dense(128, activation=tf.nn.relu))\n",
    "model.add(tf.keras.layers.Dense(62, activation=tf.nn.softmax))\n",
    "model.compile(optimizer='adam', loss='sparse_categorical_crossentropy', metrics=['accuracy'])\n",
    "model.fit(train_x, train_y, epochs=10)\n",
    "val_loss, val_acc = model.evaluate(test_x, test_y)\n",
    "print(val_loss)\n",
    "print(val_acc)"
   ]
  },
  {
   "cell_type": "code",
   "execution_count": 127,
   "metadata": {},
   "outputs": [
    {
     "name": "stdout",
     "output_type": "stream",
     "text": [
      "INFO:tensorflow:Assets written to: epic_num_reader.model\\assets\n"
     ]
    }
   ],
   "source": [
    "model.save('epic_num_reader.model')"
   ]
  },
  {
   "cell_type": "code",
   "execution_count": 6,
   "metadata": {},
   "outputs": [],
   "source": [
    "new_model = tf.keras.models.load_model('epic_num_reader.model')"
   ]
  },
  {
   "cell_type": "code",
   "execution_count": 7,
   "metadata": {},
   "outputs": [],
   "source": [
    "predictions = new_model.predict(test_x)\n",
    "string_list = string.ascii_letters + string.digits"
   ]
  },
  {
   "cell_type": "code",
   "execution_count": 8,
   "metadata": {
    "scrolled": true
   },
   "outputs": [
    {
     "name": "stdout",
     "output_type": "stream",
     "text": [
      "[[3.2434062e-12 2.7601474e-05 5.0235059e-08 ... 6.5835543e-08\n",
      "  2.8728061e-06 2.4427977e-09]\n",
      " [4.0259801e-19 3.3986973e-11 9.5753718e-16 ... 1.8655695e-09\n",
      "  1.9180543e-08 2.1394420e-08]\n",
      " [3.9855711e-16 9.5293180e-05 1.1759933e-08 ... 7.8730966e-16\n",
      "  3.5550551e-10 1.5597730e-15]\n",
      " ...\n",
      " [1.1321933e-09 9.6002594e-05 2.2180782e-07 ... 2.1410679e-07\n",
      "  6.8095840e-05 4.5399152e-06]\n",
      " [1.7938377e-14 2.1580623e-05 1.3781719e-14 ... 1.2958996e-08\n",
      "  4.7197705e-03 4.5041836e-04]\n",
      " [4.6526095e-12 7.6938215e-07 3.3435652e-15 ... 1.5608586e-09\n",
      "  2.9376783e-05 1.1297446e-06]]\n"
     ]
    }
   ],
   "source": [
    "print(predictions)"
   ]
  },
  {
   "cell_type": "code",
   "execution_count": 10,
   "metadata": {},
   "outputs": [
    {
     "name": "stdout",
     "output_type": "stream",
     "text": [
      "Letter: L\n"
     ]
    },
    {
     "data": {
      "text/plain": [
       "<matplotlib.image.AxesImage at 0x21304b50>"
      ]
     },
     "execution_count": 10,
     "metadata": {},
     "output_type": "execute_result"
    },
    {
     "data": {
      "image/png": "[encoded data removed]",
      "text/plain": [
       "<Figure size 432x288 with 1 Axes>"
      ]
     },
     "metadata": {
      "needs_background": "light"
     },
     "output_type": "display_data"
    }
   ],
   "source": [
    "ps = 750\n",
    "print(\"Letter: \" + string_list[np.argmax(predictions[ps])])\n",
    "plt.imshow(test_x[ps],cmap=plt.cm.binary)"
   ]
  },
  {
   "cell_type": "code",
   "execution_count": null,
   "metadata": {},
   "outputs": [],
   "source": []
  }
 ],
 "metadata": {
  "kernelspec": {
   "display_name": "Python 3",
   "language": "python",
   "name": "python3"
  },
  "language_info": {
   "codemirror_mode": {
    "name": "ipython",
    "version": 3
   },
   "file_extension": ".py",
   "mimetype": "text/x-python",
   "name": "python",
   "nbconvert_exporter": "python",
   "pygments_lexer": "ipython3",
   "version": "3.8.5"
  }
 },
 "nbformat": 4,
 "nbformat_minor": 4
}
