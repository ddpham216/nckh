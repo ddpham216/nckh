{
 "cells": [
  {
   "cell_type": "code",
   "execution_count": 18,
   "metadata": {},
   "outputs": [],
   "source": [
    "import numpy as np\n",
    "import os\n",
    "import cv2 as cv\n",
    "import matplotlib.pyplot as plt\n",
    "from PIL import Image\n",
    "from tensorflow.keras.preprocessing.image import img_to_array"
   ]
  },
  {
   "cell_type": "code",
   "execution_count": 19,
   "metadata": {},
   "outputs": [],
   "source": [
    "DATADIR = \"D:/NCKH/img\"\n",
    "CATEGORIES = os.listdir(DATADIR)"
   ]
  },
  {
   "cell_type": "code",
   "execution_count": 20,
   "metadata": {
    "scrolled": true
   },
   "outputs": [
    {
     "data": {
      "image/png": "[encoded data removed]",
      "text/plain": [
       "<Figure size 432x288 with 1 Axes>"
      ]
     },
     "metadata": {
      "needs_background": "light"
     },
     "output_type": "display_data"
    }
   ],
   "source": [
    "for category in CATEGORIES:\n",
    "    path = os.path.join(DATADIR, category)\n",
    "    for img in os.listdir(path):\n",
    "        img_array = cv.imread(os.path.join(path, img), cv.IMREAD_GRAYSCALE)\n",
    "        plt.imshow(img_array, cmap=\"gray\")\n",
    "        plt.show()\n",
    "        break\n",
    "    break"
   ]
  },
  {
   "cell_type": "code",
   "execution_count": 21,
   "metadata": {},
   "outputs": [],
   "source": [
    "training_data = []\n",
    "\n",
    "def create_training_data():\n",
    "    for category in CATEGORIES:\n",
    "        path = os.path.join(DATADIR, category)\n",
    "        class_num = category\n",
    "        for img in os.listdir(path):\n",
    "            try:\n",
    "                img_array = cv.imread(os.path.join(path, img), cv.IMREAD_GRAYSCALE)\n",
    "                img_array = np.insert(img_array, 0, int(class_num))\n",
    "                img_array = img_array.flatten()\n",
    "                training_data.append(img_array)\n",
    "            except Exception as e:\n",
    "                print(e)\n",
    "create_training_data()"
   ]
  },
  {
   "cell_type": "code",
   "execution_count": 23,
   "metadata": {
    "scrolled": false
   },
   "outputs": [
    {
     "name": "stdout",
     "output_type": "stream",
     "text": [
      "[[ 5  0  0 ...  0  0  0]\n",
      " [41  0  0 ...  0  0  0]\n",
      " [19  0  0 ...  0  0  0]\n",
      " ...\n",
      " [60  0  0 ...  0  0  0]\n",
      " [45  0  0 ...  0  0  0]\n",
      " [21  0  0 ...  0  0  0]]\n"
     ]
    }
   ],
   "source": [
    "type(training_data)\n",
    "training_arr = np.array(training_data)\n",
    "np.random.shuffle(training_arr)\n",
    "print(training_arr)\n",
    "number_of_test = int(training_arr.shape[0] / 7)\n",
    "np.savetxt('test.csv', training_arr[0:number_of_test], fmt='%d', delimiter=',')\n",
    "np.savetxt('train.csv', training_arr[number_of_test:], fmt='%d', delimiter=',')"
   ]
  },
  {
   "cell_type": "code",
   "execution_count": null,
   "metadata": {},
   "outputs": [],
   "source": []
  }
 ],
 "metadata": {
  "kernelspec": {
   "display_name": "Python 3",
   "language": "python",
   "name": "python3"
  },
  "language_info": {
   "codemirror_mode": {
    "name": "ipython",
    "version": 3
   },
   "file_extension": ".py",
   "mimetype": "text/x-python",
   "name": "python",
   "nbconvert_exporter": "python",
   "pygments_lexer": "ipython3",
   "version": "3.8.5"
  }
 },
 "nbformat": 4,
 "nbformat_minor": 4
}
